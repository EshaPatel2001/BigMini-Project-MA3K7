{
 "cells": [
  {
   "cell_type": "code",
   "execution_count": 24,
   "metadata": {},
   "outputs": [
    {
     "name": "stdout",
     "output_type": "stream",
     "text": [
      "Enter a decimal number: 0.2\n",
      "Result: 0.3\n"
     ]
    }
   ],
   "source": [
    "# Testing to see how to get the Decimal function to work\n",
    "from decimal import Decimal\n",
    "\n",
    "# Take input from the user\n",
    "input_value = input(\"Enter a decimal number: \")\n",
    "\n",
    "# Convert the input to a Decimal object\n",
    "decimal_input = Decimal(input_value)\n",
    "\n",
    "# Perform arithmetic operation with Decimal objects\n",
    "result = Decimal('0.5') - decimal_input\n",
    "\n",
    "print(\"Result:\", result)"
   ]
  },
  {
   "cell_type": "code",
   "execution_count": 25,
   "metadata": {},
   "outputs": [
    {
     "data": {
      "text/plain": [
       "Decimal('0.1')"
      ]
     },
     "execution_count": 25,
     "metadata": {},
     "output_type": "execute_result"
    }
   ],
   "source": [
    "#Further testing\n",
    "x = Decimal('0.5')-Decimal('0.2')-Decimal('0.2')\n",
    "x"
   ]
  },
  {
   "cell_type": "code",
   "execution_count": null,
   "metadata": {},
   "outputs": [],
   "source": [
    "from decimal import Decimal\n",
    "\n",
    "def glasses_states(glasses): # a function that collects the 'present' states of the glasses throughout the game\n",
    "    print(\"Current state of glasses:\")\n",
    "    print(' '.join(map(str, glasses)))\n",
    "    #Not sure if this is needed and not REALLYYY sure what it does\n",
    "\n",
    "def overflow_check(glasses):\n",
    "    for i in range(n):\n",
    "        if glasses[i] > 1:\n",
    "            return True\n",
    "    return False\n",
    "    \n",
    "    \n",
    "def adjacent_check(index_1, index_2):\n",
    "    if abs(index_1 - index_2) == 1 :\n",
    "        return True\n",
    "    elif abs(index_1 - index_2) == n-1:\n",
    "        return True\n",
    "    else:\n",
    "        return False\n",
    "\n",
    "def Player_A_turn(glasses):\n",
    "    print(\"It's player A's turn\")\n",
    "    amount_to_pour = Decimal('0.5')\n",
    "    while amount_to_pour > 0:\n",
    "        while True:\n",
    "            pour_into = int(input(\"Enter the index, the glass number - 1, of the glass to pour into (0 to {}): \".format(len(glasses) - 1)))\n",
    "            if 0 <= pour_into < len(glasses):\n",
    "                while True:\n",
    "                    amount = input(f\"Enter the amount you want to pour into  glass {pour_into} (up to {amount_to_pour}): \")\n",
    "                    decimal_amount = Decimal(amount)\n",
    "                    if 0 < decimal_amount <= amount_to_pour:\n",
    "                        glasses[pour_into] = glasses[pour_into] + decimal_amount\n",
    "                        amount_to_pour = amount_to_pour - decimal_amount\n",
    "                        break\n",
    "                    else :\n",
    "                        print(\"Invalid amount please enter an amount > 0 and < \" + str(amount_to_pour) + \" to pour into glass \" + str(pour_into))\n",
    "                break\n",
    "            else:\n",
    "                print(\"Index must be between 0 and {}\".format(len(glasses) - 1))\n",
    "\n",
    "    glasses_states(glasses)\n",
    "    return overflow_check(glasses)\n",
    "            \n",
    "def Player_B_turn(glasses, states):\n",
    "    print(\"It's player B's turn\")\n",
    "    print(\"You need to select two adjacent glasses to empty\")\n",
    "    \n",
    "    while True:\n",
    "        index_1 = int(input(\"Enter the index, the glass number - 1, of the firts glass to empty (0 to {}): \".format(len(glasses) - 1)))\n",
    "        index_2 = int(input(\"Enter the index, the glass number - 1, of the second adjacent glass to pour into (0 to {}): \".format(len(glasses) - 1)))\n",
    "        if adjacent_check(index_1, index_2) == True:\n",
    "            glasses[index_1] = 0\n",
    "            glasses[index_2] = 0\n",
    "            break\n",
    "        else:\n",
    "            print(\"Error: Must be adjacent glasses\")\n",
    "    \n",
    "    glasses_states(glasses)\n",
    "\n",
    "    if glasses in states:\n",
    "        return True\n",
    "    \n",
    "    states.append(glasses.copy())\n",
    "    \n",
    "    return overflow_check(glasses)\n",
    "\n",
    "def play_game(n):\n",
    "    glasses = [0 for i in range(n)] # array to represent the glasses and their initial states\n",
    "    states = []\n",
    "    states.append(glasses.copy())\n",
    "    while True:\n",
    "        if Player_A_turn(glasses):\n",
    "            print(\"Player A wins!\")\n",
    "            break\n",
    "        if Player_B_turn(glasses, states):\n",
    "            print(\"Repeat Player B wins!\")\n",
    "            break\n",
    "\n",
    "\n",
    "if __name__ == \"__main__\":\n",
    "    n = int(input(\"Enter the number of glasses: \"))\n",
    "    play_game(n)"
   ]
  },
  {
   "cell_type": "code",
   "execution_count": null,
   "metadata": {},
   "outputs": [],
   "source": []
  }
 ],
 "metadata": {
  "kernelspec": {
   "display_name": "Python 3",
   "language": "python",
   "name": "python3"
  }
 },
 "nbformat": 4,
 "nbformat_minor": 4
}
